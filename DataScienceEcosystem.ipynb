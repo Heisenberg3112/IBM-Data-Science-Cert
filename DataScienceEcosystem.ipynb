{
 "cells": [
  {
   "cell_type": "markdown",
   "id": "8fa2a19c-9cc7-4e74-a873-18cc4e9af699",
   "metadata": {},
   "source": [
    "# Data Science Tools and Ecosystem"
   ]
  },
  {
   "cell_type": "markdown",
   "id": "a8370116-cfaa-47ef-99bd-e7b2b6cfc396",
   "metadata": {},
   "source": [
    "In this notebook, Data Science Tools and Ecosystem are summarized."
   ]
  },
  {
   "cell_type": "markdown",
   "id": "a794f90f-31f2-4049-bde2-ed83e865701b",
   "metadata": {},
   "source": [
    "Some of the popular languages that Data Scientists use are:\n",
    "1. R\n",
    "1. Python\n",
    "1. SQL\n"
   ]
  },
  {
   "cell_type": "markdown",
   "id": "a7ad5104-7db2-411c-b5b5-cf212fb6a7f7",
   "metadata": {},
   "source": [
    "Some of the commonly used libraries used by Data Scientists include:\n",
    "\n",
    "1. pandas\n",
    "1. numpy\n",
    "1. matplotlib\n",
    "1. Keras\n",
    "1. scikitlearn\n",
    "1. pytorch"
   ]
  },
  {
   "cell_type": "markdown",
   "id": "43b4cc8e-7926-4dcf-a350-f9e9055272c4",
   "metadata": {},
   "source": [
    "| Data Science Tools |\n",
    "|------|\n",
    "|Jupyter Notebook|\n",
    "|Jupyter Labs|\n",
    "|RStudio|\n"
   ]
  },
  {
   "cell_type": "markdown",
   "id": "973aea2b-d019-47a0-be2c-cf397f56edec",
   "metadata": {},
   "source": [
    "### Below are a few examples of evaluating arithmetic expressions in Python"
   ]
  },
  {
   "cell_type": "code",
   "execution_count": 2,
   "id": "5c7aa3b8-3ca3-4b77-8333-08bffd736ec6",
   "metadata": {},
   "outputs": [
    {
     "data": {
      "text/plain": [
       "17"
      ]
     },
     "execution_count": 2,
     "metadata": {},
     "output_type": "execute_result"
    }
   ],
   "source": [
    "# This a simple arithmetic expression to mutiply then add integers\n",
    "(3*4)+5"
   ]
  },
  {
   "cell_type": "code",
   "execution_count": 8,
   "id": "bf9a259c-0ab2-44f9-b635-07fa112031be",
   "metadata": {},
   "outputs": [
    {
     "name": "stdout",
     "output_type": "stream",
     "text": [
      "3.3333333333333335 hours\n"
     ]
    }
   ],
   "source": [
    "#This will convert 200 minutes to hours by diving by 60\n",
    "\n",
    "min = 200\n",
    "hours = min/60\n",
    "      \n",
    "print(\"{} hours\".format(hours))\n"
   ]
  },
  {
   "cell_type": "markdown",
   "id": "0f73a1cb-bd56-4e0e-833a-b588108a64d7",
   "metadata": {},
   "source": [
    "**Objectives:**\n",
    "* DS languages\n",
    "* DS libraries\n",
    "* DS Tools\n",
    "* Convert hours to mins\n"
   ]
  },
  {
   "cell_type": "markdown",
   "id": "06fceebf-3554-4bd2-9a09-b8c8cab688b2",
   "metadata": {},
   "source": [
    "### Author  \n",
    "Sairam Vekatachalam"
   ]
  },
  {
   "cell_type": "code",
   "execution_count": null,
   "id": "05075bff-b28e-454d-bc5e-92d55a2ad837",
   "metadata": {},
   "outputs": [],
   "source": []
  }
 ],
 "metadata": {
  "kernelspec": {
   "display_name": "Python",
   "language": "python",
   "name": "conda-env-python-py"
  },
  "language_info": {
   "codemirror_mode": {
    "name": "ipython",
    "version": 3
   },
   "file_extension": ".py",
   "mimetype": "text/x-python",
   "name": "python",
   "nbconvert_exporter": "python",
   "pygments_lexer": "ipython3",
   "version": "3.7.12"
  }
 },
 "nbformat": 4,
 "nbformat_minor": 5
}
